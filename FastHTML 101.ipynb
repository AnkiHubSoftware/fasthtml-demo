{
 "cells": [
  {
   "cell_type": "markdown",
   "id": "d2ddde7c",
   "metadata": {},
   "source": [
    "# 2025-04-03 AnkiHub FastHTML Workshop\n",
    "\n",
    "+ **Purpose:** Introduction to FastHTML concepts and AI assistance with FastHTML\n",
    "+ **Material Location** This notebook and all other materials will be shard in the fasthtml-demo repository"
   ]
  },
  {
   "cell_type": "markdown",
   "id": "24e9a31c",
   "metadata": {},
   "source": [
    "# FastHTML"
   ]
  },
  {
   "cell_type": "markdown",
   "id": "128a751e",
   "metadata": {},
   "source": [
    "## Setup and imports"
   ]
  },
  {
   "cell_type": "code",
   "execution_count": 1,
   "id": "6a4266ea",
   "metadata": {},
   "outputs": [
    {
     "name": "stdout",
     "output_type": "stream",
     "text": [
      "Note: you may need to restart the kernel to use updated packages.\n"
     ]
    }
   ],
   "source": [
    "pip install -Uqq python-fasthtml monsterui"
   ]
  },
  {
   "cell_type": "code",
   "execution_count": 2,
   "id": "4fe4e151",
   "metadata": {},
   "outputs": [],
   "source": [
    "from fasthtml.common import *\n",
    "from fasthtml.jupyter import *\n",
    "from functools import partial\n",
    "import time\n",
    "import fasthtml.common as fh"
   ]
  },
  {
   "cell_type": "markdown",
   "id": "6b09eb5e",
   "metadata": {},
   "source": [
    "## Hello World"
   ]
  },
  {
   "cell_type": "code",
   "execution_count": 3,
   "id": "3cf119b6",
   "metadata": {},
   "outputs": [],
   "source": [
    "app,rt = fast_app()"
   ]
  },
  {
   "cell_type": "code",
   "execution_count": 4,
   "id": "9b214d34",
   "metadata": {},
   "outputs": [
    {
     "data": {
      "text/html": [
       "\n",
       "<script>\n",
       "document.body.addEventListener('htmx:configRequest', (event) => {\n",
       "    if(event.detail.path.includes('://')) return;\n",
       "    htmx.config.selfRequestsOnly=false;\n",
       "    event.detail.path = `${location.protocol}//${location.hostname}:8000${event.detail.path}`;\n",
       "});\n",
       "</script>"
      ],
      "text/plain": [
       "<IPython.core.display.HTML object>"
      ]
     },
     "metadata": {},
     "output_type": "display_data"
    }
   ],
   "source": [
    "# For running apps in jupyter notebooks\n",
    "server = JupyUvi(app)\n",
    "Show = partial(HTMX, app=app, link=True)"
   ]
  },
  {
   "cell_type": "code",
   "execution_count": 10,
   "id": "ccd8a947",
   "metadata": {},
   "outputs": [],
   "source": [
    "@rt\n",
    "def index():\n",
    "    return Div(H1(\"Hello World\"), Button(\"Ex Button\"))"
   ]
  },
  {
   "cell_type": "code",
   "execution_count": 11,
   "id": "a72127a2",
   "metadata": {},
   "outputs": [
    {
     "data": {
      "text/markdown": [
       "```html\n",
       "<div>\n",
       "  <h1>Hello World</h1>\n",
       "<button>Ex Button</button></div>\n",
       "\n",
       "```"
      ],
      "text/plain": [
       "div((h1(('Hello World',),{}), button(('Ex Button',),{})),{})"
      ]
     },
     "execution_count": 11,
     "metadata": {},
     "output_type": "execute_result"
    }
   ],
   "source": [
    "index()"
   ]
  },
  {
   "cell_type": "code",
   "execution_count": 12,
   "id": "0bcce950",
   "metadata": {},
   "outputs": [
    {
     "data": {
      "text/html": [
       "<a href=\"http://localhost:8000/\" target=\"_blank\">Open in new tab</a>"
      ],
      "text/plain": [
       "<IPython.core.display.HTML object>"
      ]
     },
     "metadata": {},
     "output_type": "display_data"
    },
    {
     "data": {
      "text/html": [
       "<iframe src=\"http://localhost:8000/\" style=\"width: 100%; height: auto; border: none;\" onload=\"{\n",
       "        let frame = this;\n",
       "        window.addEventListener('message', function(e) {\n",
       "            if (e.source !== frame.contentWindow) return; // Only proceed if the message is from this iframe\n",
       "            if (e.data.height) frame.style.height = (e.data.height+1) + 'px';\n",
       "        }, false);\n",
       "    }\" allow=\"accelerometer; autoplay; camera; clipboard-read; clipboard-write; display-capture; encrypted-media; fullscreen; gamepad; geolocation; gyroscope; hid; identity-credentials-get; idle-detection; magnetometer; microphone; midi; payment; picture-in-picture; publickey-credentials-get; screen-wake-lock; serial; usb; web-share; xr-spatial-tracking\"></iframe> "
      ],
      "text/plain": [
       "<IPython.core.display.HTML object>"
      ]
     },
     "execution_count": 12,
     "metadata": {},
     "output_type": "execute_result"
    }
   ],
   "source": [
    "Show(index)"
   ]
  },
  {
   "cell_type": "markdown",
   "id": "185441d6",
   "metadata": {},
   "source": [
    "Key points:\n",
    "\n",
    "- Can use very little to start a server\n",
    "- There isn't any huge transform magic, you can see it's regular html\n",
    "- No boilerplate needed\n",
    "- Default uses [PicoCSS](https://picocss.com/)"
   ]
  },
  {
   "cell_type": "markdown",
   "id": "25ef3021",
   "metadata": {},
   "source": [
    "## MonsterUI Hello World"
   ]
  },
  {
   "cell_type": "code",
   "execution_count": 13,
   "id": "ee94df2a",
   "metadata": {},
   "outputs": [],
   "source": [
    "from monsterui.all import *\n",
    "app,rt = fast_app(hdrs=Theme.blue.headers())"
   ]
  },
  {
   "cell_type": "code",
   "execution_count": 14,
   "id": "6e2bf61d",
   "metadata": {},
   "outputs": [
    {
     "data": {
      "text/html": [
       "\n",
       "<script>\n",
       "document.body.addEventListener('htmx:configRequest', (event) => {\n",
       "    if(event.detail.path.includes('://')) return;\n",
       "    htmx.config.selfRequestsOnly=false;\n",
       "    event.detail.path = `${location.protocol}//${location.hostname}:8000${event.detail.path}`;\n",
       "});\n",
       "</script>"
      ],
      "text/plain": [
       "<IPython.core.display.HTML object>"
      ]
     },
     "metadata": {},
     "output_type": "display_data"
    }
   ],
   "source": [
    "server.stop(); time.sleep(1)\n",
    "server = JupyUvi(app)\n",
    "Show = partial(HTMX, app=app, link=True)"
   ]
  },
  {
   "cell_type": "code",
   "execution_count": 23,
   "id": "a7b43130",
   "metadata": {},
   "outputs": [],
   "source": [
    "@rt\n",
    "def index():\n",
    "    return Card(H1(\"Hello World\"), Button(\"Ex Button\", cls='uk-btn-primary'))"
   ]
  },
  {
   "cell_type": "code",
   "execution_count": 24,
   "id": "2ab89f21",
   "metadata": {
    "scrolled": true
   },
   "outputs": [
    {
     "data": {
      "text/html": [
       "<a href=\"http://localhost:8000/\" target=\"_blank\">Open in new tab</a>"
      ],
      "text/plain": [
       "<IPython.core.display.HTML object>"
      ]
     },
     "metadata": {},
     "output_type": "display_data"
    },
    {
     "data": {
      "text/html": [
       "<iframe src=\"http://localhost:8000/\" style=\"width: 100%; height: auto; border: none;\" onload=\"{\n",
       "        let frame = this;\n",
       "        window.addEventListener('message', function(e) {\n",
       "            if (e.source !== frame.contentWindow) return; // Only proceed if the message is from this iframe\n",
       "            if (e.data.height) frame.style.height = (e.data.height+1) + 'px';\n",
       "        }, false);\n",
       "    }\" allow=\"accelerometer; autoplay; camera; clipboard-read; clipboard-write; display-capture; encrypted-media; fullscreen; gamepad; geolocation; gyroscope; hid; identity-credentials-get; idle-detection; magnetometer; microphone; midi; payment; picture-in-picture; publickey-credentials-get; screen-wake-lock; serial; usb; web-share; xr-spatial-tracking\"></iframe> "
      ],
      "text/plain": [
       "<IPython.core.display.HTML object>"
      ]
     },
     "execution_count": 24,
     "metadata": {},
     "output_type": "execute_result"
    }
   ],
   "source": [
    "Show(index)"
   ]
  },
  {
   "cell_type": "markdown",
   "id": "6c4d1bf5",
   "metadata": {},
   "source": [
    "Key Points:\n",
    "- MonsterUI adds styling\n",
    "- Pythonic discoverability of classes with ButtonT enum"
   ]
  },
  {
   "cell_type": "markdown",
   "id": "39b200f4",
   "metadata": {},
   "source": [
    "## Foundations"
   ]
  },
  {
   "cell_type": "markdown",
   "id": "bc353ef1",
   "metadata": {},
   "source": [
    "### FastTags"
   ]
  },
  {
   "cell_type": "code",
   "execution_count": 25,
   "id": "2c60af7e",
   "metadata": {},
   "outputs": [],
   "source": [
    "from fasthtml.common import *"
   ]
  },
  {
   "cell_type": "code",
   "execution_count": 31,
   "id": "99f7c30e",
   "metadata": {},
   "outputs": [],
   "source": [
    "# Input(\"Hello\")"
   ]
  },
  {
   "cell_type": "code",
   "execution_count": 32,
   "id": "ac669361",
   "metadata": {},
   "outputs": [
    {
     "data": {
      "text/markdown": [
       "```html\n",
       "<button>Submit</button>\n",
       "```"
      ],
      "text/plain": [
       "button(('Submit',),{})"
      ]
     },
     "execution_count": 32,
     "metadata": {},
     "output_type": "execute_result"
    }
   ],
   "source": [
    "Button('Submit')"
   ]
  },
  {
   "cell_type": "code",
   "execution_count": 33,
   "id": "55933ef7",
   "metadata": {},
   "outputs": [
    {
     "data": {
      "text/markdown": [
       "```html\n",
       "<button type=\"submit\">Submit</button>\n",
       "```"
      ],
      "text/plain": [
       "button(('Submit',),{'type': 'submit'})"
      ]
     },
     "execution_count": 33,
     "metadata": {},
     "output_type": "execute_result"
    }
   ],
   "source": [
    "Button('Submit', type='submit')"
   ]
  },
  {
   "cell_type": "code",
   "execution_count": 34,
   "id": "07305488",
   "metadata": {},
   "outputs": [
    {
     "data": {
      "text/markdown": [
       "```html\n",
       "<button type=\"submit\" class=\"uk-btn uk-btn-default\">Submit</button>\n",
       "```"
      ],
      "text/plain": [
       "button(('Submit',),{'type': 'submit', 'class': 'uk-btn uk-btn-default'})"
      ]
     },
     "execution_count": 34,
     "metadata": {},
     "output_type": "execute_result"
    }
   ],
   "source": [
    "Button('Submit', type='submit', cls=\"uk-btn uk-btn-default\")"
   ]
  },
  {
   "cell_type": "markdown",
   "id": "b48262ae",
   "metadata": {},
   "source": [
    "Key Points:\n",
    "\n",
    "- FastTags really are a 1:1 mapping from html to python\n",
    "- This means it's flexible and refactorable\n",
    "- Can do templateing and abstractions using all the affordances of python\n",
    "- [h2f.answer.ai](https://h2f.answer.ai/) to convert html to fastags"
   ]
  },
  {
   "cell_type": "code",
   "execution_count": 35,
   "id": "93663c1a",
   "metadata": {},
   "outputs": [],
   "source": [
    "from monsterui.all import *"
   ]
  },
  {
   "cell_type": "code",
   "execution_count": null,
   "id": "b4c3264c",
   "metadata": {},
   "outputs": [],
   "source": [
    "Input()"
   ]
  },
  {
   "cell_type": "code",
   "execution_count": 36,
   "id": "e0cfa5cb",
   "metadata": {},
   "outputs": [
    {
     "data": {
      "text/markdown": [
       "```html\n",
       "<button type=\"submit\" class=\"uk-btn uk-btn-default\">Submit</button>\n",
       "```"
      ],
      "text/plain": [
       "button(('Submit',),{'type': 'submit', 'class': 'uk-btn uk-btn-default'})"
      ]
     },
     "execution_count": 36,
     "metadata": {},
     "output_type": "execute_result"
    }
   ],
   "source": [
    "Button(\"Submit\")"
   ]
  },
  {
   "cell_type": "code",
   "execution_count": 37,
   "id": "7f5a778f",
   "metadata": {},
   "outputs": [
    {
     "data": {
      "text/markdown": [
       "```html\n",
       "<button type=\"submit\" class=\"uk-btn uk-btn-primary\">Submit</button>\n",
       "```"
      ],
      "text/plain": [
       "button(('Submit',),{'type': 'submit', 'class': 'uk-btn uk-btn-primary'})"
      ]
     },
     "execution_count": 37,
     "metadata": {},
     "output_type": "execute_result"
    }
   ],
   "source": [
    "Button(\"Submit\", cls=ButtonT.primary)"
   ]
  },
  {
   "cell_type": "markdown",
   "id": "03e7e53c",
   "metadata": {},
   "source": [
    "Key Points:\n",
    "\n",
    "- MonsterUI isn't magic, it's just adding css classes for you and syncing library themes\n",
    "- Nothing you couldn't do yourself to use any css framework you'd like"
   ]
  },
  {
   "cell_type": "markdown",
   "id": "edb69c51",
   "metadata": {},
   "source": [
    "### HTMX"
   ]
  },
  {
   "cell_type": "markdown",
   "id": "2f786b72",
   "metadata": {},
   "source": [
    "**I want be able to be able to call our route based on any trigger and put the response anywhere on the page.**\n",
    "\n",
    "Submitting a form:\n",
    "\n",
    "- hx-trigger: What triggers the action to be taken.  Some examples:\n",
    "    - `click` (generally the default)\n",
    "    - `changed` (when an user input changes)\n",
    "- hx-get: What route is called when the trigger occurs\n",
    "    - ex `hx-get='/my-route/here'`.\n",
    "    - also hx-delete, and hx-post for delete/post methods\n",
    "- hx-target: Where to put the return value of the route that was called\n",
    "    - defaults to where it was triggered\n",
    "- hx-swap: How to swap it in.  Some examples:\n",
    "    - `innerHTML`:  Replace everything inside the target (default)\n",
    "    - `beforend`: Put it at the end of the target leaving what was already there\n",
    "    - `outerHTML`: Replace the entire HTML element targetted"
   ]
  },
  {
   "cell_type": "markdown",
   "id": "387943b9",
   "metadata": {},
   "source": [
    "Key points:\n",
    "\n",
    "- Call a function (hx-get) when I want (hx-trigger) and put the results where I want (hx-target) with whatever content swapping strategy I want (hx-swap)"
   ]
  },
  {
   "cell_type": "markdown",
   "id": "121d3504",
   "metadata": {},
   "source": [
    "### HX Get"
   ]
  },
  {
   "cell_type": "code",
   "execution_count": 42,
   "id": "f27f2e69",
   "metadata": {},
   "outputs": [],
   "source": [
    "@rt\n",
    "def basic_form():\n",
    "    return Form(\n",
    "        LabelInput(\"Name\", id='name'),\n",
    "        Button(\"Submit\", cls=ButtonT.primary),\n",
    "        hx_get=add_name\n",
    "    )\n",
    "\n",
    "@rt\n",
    "def add_name(name:str):\n",
    "    return H1(f\"{name}!!!\")"
   ]
  },
  {
   "cell_type": "code",
   "execution_count": 43,
   "id": "546a439d",
   "metadata": {},
   "outputs": [
    {
     "data": {
      "text/html": [
       "<a href=\"http://localhost:8000/basic_form\" target=\"_blank\">Open in new tab</a>"
      ],
      "text/plain": [
       "<IPython.core.display.HTML object>"
      ]
     },
     "metadata": {},
     "output_type": "display_data"
    },
    {
     "data": {
      "text/html": [
       "<iframe src=\"http://localhost:8000/basic_form\" style=\"width: 100%; height: auto; border: none;\" onload=\"{\n",
       "        let frame = this;\n",
       "        window.addEventListener('message', function(e) {\n",
       "            if (e.source !== frame.contentWindow) return; // Only proceed if the message is from this iframe\n",
       "            if (e.data.height) frame.style.height = (e.data.height+1) + 'px';\n",
       "        }, false);\n",
       "    }\" allow=\"accelerometer; autoplay; camera; clipboard-read; clipboard-write; display-capture; encrypted-media; fullscreen; gamepad; geolocation; gyroscope; hid; identity-credentials-get; idle-detection; magnetometer; microphone; midi; payment; picture-in-picture; publickey-credentials-get; screen-wake-lock; serial; usb; web-share; xr-spatial-tracking\"></iframe> "
      ],
      "text/plain": [
       "<IPython.core.display.HTML object>"
      ]
     },
     "execution_count": 43,
     "metadata": {},
     "output_type": "execute_result"
    }
   ],
   "source": [
    "Show(basic_form)"
   ]
  },
  {
   "cell_type": "markdown",
   "id": "e6e50426",
   "metadata": {},
   "source": [
    "### HX Target"
   ]
  },
  {
   "cell_type": "code",
   "execution_count": 45,
   "id": "6f370edf",
   "metadata": {},
   "outputs": [],
   "source": [
    "@rt\n",
    "def basic_form2():\n",
    "    return Main(\n",
    "        Form(\n",
    "            LabelInput(\"Name\", id='name'),\n",
    "            Button(\"Submit\", cls=ButtonT.primary),\n",
    "            hx_get=add_name2,\n",
    "            hx_target='#result'\n",
    "        ),\n",
    "        Div(id='result'))\n",
    "\n",
    "@rt\n",
    "def add_name2(name:str):\n",
    "    return H1(f\"Hello {name}!!!\")"
   ]
  },
  {
   "cell_type": "code",
   "execution_count": 46,
   "id": "362bd819",
   "metadata": {
    "scrolled": true
   },
   "outputs": [
    {
     "data": {
      "text/html": [
       "<a href=\"http://localhost:8000/basic_form2\" target=\"_blank\">Open in new tab</a>"
      ],
      "text/plain": [
       "<IPython.core.display.HTML object>"
      ]
     },
     "metadata": {},
     "output_type": "display_data"
    },
    {
     "data": {
      "text/html": [
       "<iframe src=\"http://localhost:8000/basic_form2\" style=\"width: 100%; height: auto; border: none;\" onload=\"{\n",
       "        let frame = this;\n",
       "        window.addEventListener('message', function(e) {\n",
       "            if (e.source !== frame.contentWindow) return; // Only proceed if the message is from this iframe\n",
       "            if (e.data.height) frame.style.height = (e.data.height+1) + 'px';\n",
       "        }, false);\n",
       "    }\" allow=\"accelerometer; autoplay; camera; clipboard-read; clipboard-write; display-capture; encrypted-media; fullscreen; gamepad; geolocation; gyroscope; hid; identity-credentials-get; idle-detection; magnetometer; microphone; midi; payment; picture-in-picture; publickey-credentials-get; screen-wake-lock; serial; usb; web-share; xr-spatial-tracking\"></iframe> "
      ],
      "text/plain": [
       "<IPython.core.display.HTML object>"
      ]
     },
     "execution_count": 46,
     "metadata": {},
     "output_type": "execute_result"
    }
   ],
   "source": [
    "Show(basic_form2)"
   ]
  },
  {
   "cell_type": "markdown",
   "id": "84a51429",
   "metadata": {},
   "source": [
    "### HX Swap"
   ]
  },
  {
   "cell_type": "code",
   "execution_count": 47,
   "id": "8d6c2b75",
   "metadata": {},
   "outputs": [],
   "source": [
    "@rt\n",
    "def basic_form3():\n",
    "    return Main(\n",
    "        Form(\n",
    "            LabelInput(\"Name\", id='name'),\n",
    "            Button(\"Submit\", cls=ButtonT.primary),\n",
    "            hx_get=add_name3,\n",
    "            hx_target='#result',\n",
    "            hx_swap='beforeend'\n",
    "        ),\n",
    "        Div(id='result'))\n",
    "\n",
    "@rt\n",
    "def add_name3(name:str):\n",
    "    return H1(f\"Hello {name}!!!\")"
   ]
  },
  {
   "cell_type": "code",
   "execution_count": 48,
   "id": "fbf7e82b",
   "metadata": {
    "scrolled": false
   },
   "outputs": [
    {
     "data": {
      "text/html": [
       "<a href=\"http://localhost:8000/basic_form3\" target=\"_blank\">Open in new tab</a>"
      ],
      "text/plain": [
       "<IPython.core.display.HTML object>"
      ]
     },
     "metadata": {},
     "output_type": "display_data"
    },
    {
     "data": {
      "text/html": [
       "<iframe src=\"http://localhost:8000/basic_form3\" style=\"width: 100%; height: auto; border: none;\" onload=\"{\n",
       "        let frame = this;\n",
       "        window.addEventListener('message', function(e) {\n",
       "            if (e.source !== frame.contentWindow) return; // Only proceed if the message is from this iframe\n",
       "            if (e.data.height) frame.style.height = (e.data.height+1) + 'px';\n",
       "        }, false);\n",
       "    }\" allow=\"accelerometer; autoplay; camera; clipboard-read; clipboard-write; display-capture; encrypted-media; fullscreen; gamepad; geolocation; gyroscope; hid; identity-credentials-get; idle-detection; magnetometer; microphone; midi; payment; picture-in-picture; publickey-credentials-get; screen-wake-lock; serial; usb; web-share; xr-spatial-tracking\"></iframe> "
      ],
      "text/plain": [
       "<IPython.core.display.HTML object>"
      ]
     },
     "execution_count": 48,
     "metadata": {},
     "output_type": "execute_result"
    }
   ],
   "source": [
    "Show(basic_form3)"
   ]
  },
  {
   "cell_type": "markdown",
   "id": "a7d4d13e",
   "metadata": {},
   "source": [
    "### HX Trigger"
   ]
  },
  {
   "cell_type": "code",
   "execution_count": 50,
   "id": "44597e1b",
   "metadata": {},
   "outputs": [],
   "source": [
    "@rt\n",
    "def basic_form4():\n",
    "    return Main(\n",
    "        Form(\n",
    "            LabelInput(\n",
    "                \"Name\", \n",
    "                id='name',\n",
    "                hx_get=add_name4,\n",
    "                hx_target='#result',\n",
    "                hx_trigger='input changed'\n",
    "        )),\n",
    "        Div(id='result'))\n",
    "\n",
    "@rt\n",
    "def add_name4(name:str):\n",
    "    return H1(f\"Hello {name}!!!\")"
   ]
  },
  {
   "cell_type": "code",
   "execution_count": 51,
   "id": "4be218d8",
   "metadata": {
    "scrolled": true
   },
   "outputs": [
    {
     "data": {
      "text/html": [
       "<a href=\"http://localhost:8000/basic_form4\" target=\"_blank\">Open in new tab</a>"
      ],
      "text/plain": [
       "<IPython.core.display.HTML object>"
      ]
     },
     "metadata": {},
     "output_type": "display_data"
    },
    {
     "data": {
      "text/html": [
       "<iframe src=\"http://localhost:8000/basic_form4\" style=\"width: 100%; height: auto; border: none;\" onload=\"{\n",
       "        let frame = this;\n",
       "        window.addEventListener('message', function(e) {\n",
       "            if (e.source !== frame.contentWindow) return; // Only proceed if the message is from this iframe\n",
       "            if (e.data.height) frame.style.height = (e.data.height+1) + 'px';\n",
       "        }, false);\n",
       "    }\" allow=\"accelerometer; autoplay; camera; clipboard-read; clipboard-write; display-capture; encrypted-media; fullscreen; gamepad; geolocation; gyroscope; hid; identity-credentials-get; idle-detection; magnetometer; microphone; midi; payment; picture-in-picture; publickey-credentials-get; screen-wake-lock; serial; usb; web-share; xr-spatial-tracking\"></iframe> "
      ],
      "text/plain": [
       "<IPython.core.display.HTML object>"
      ]
     },
     "execution_count": 51,
     "metadata": {},
     "output_type": "execute_result"
    }
   ],
   "source": [
    "Show(basic_form4)"
   ]
  },
  {
   "cell_type": "markdown",
   "id": "24abea71",
   "metadata": {
    "heading_collapsed": true
   },
   "source": [
    "## Learn More"
   ]
  },
  {
   "cell_type": "markdown",
   "id": "03f6c7d5",
   "metadata": {
    "hidden": true
   },
   "source": [
    "Docs\n",
    "\n",
    "- FastHTML Documentation: https://docs.fastht.ml/\n",
    "- MonsterUI Documentation: https://monsterui.answer.ai/\n",
    "        \n",
    "Learning Examples:    \n",
    "\n",
    "- gallery.fastht.ml \n",
    "- https://phihung-htmx-examples.hf.space/\n",
    "- [Highly documented todo app](https://github.com/AnswerDotAI/fasthtml/blob/main/examples/adv_app.py)\n",
    "\n",
    "Blog posts:\n",
    "    \n",
    "- https://isaacflath.com/blog/blog_post?fpath=posts%2F2025-03-27-FastHTML-Lesson1.ipynb\n",
    "- https://isaacflath.com/blog/blog_post?fpath=posts%2F2025-04-03-Dynamic+UI+Interactions+with+FastHTML+and+HTMX.ipynb\n",
    "- https://isaacflath.com/blog/blog_post?fpath=posts%2F2025-03-18-Builing-a-search-eval-app-fasthtml-monsterui.ipynb "
   ]
  }
 ],
 "metadata": {
  "kernelspec": {
   "display_name": "Python 3 (ipykernel)",
   "language": "python",
   "name": "python3"
  },
  "language_info": {
   "codemirror_mode": {
    "name": "ipython",
    "version": 3
   },
   "file_extension": ".py",
   "mimetype": "text/x-python",
   "name": "python",
   "nbconvert_exporter": "python",
   "pygments_lexer": "ipython3",
   "version": "3.12.8"
  }
 },
 "nbformat": 4,
 "nbformat_minor": 5
}
