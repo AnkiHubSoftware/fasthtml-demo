{
 "cells": [
  {
   "cell_type": "code",
   "execution_count": 2,
   "id": "90c5196e",
   "metadata": {},
   "outputs": [],
   "source": [
    "import pandas as pd\n",
    "from datetime import datetime, timedelta\n",
    "import httpx, json"
   ]
  },
  {
   "cell_type": "code",
   "execution_count": 5,
   "id": "9e3d68ae",
   "metadata": {},
   "outputs": [],
   "source": [
    "from dotenv import load_dotenv\n",
    "import os\n",
    "load_dotenv(\"../.env\")\n",
    "phoenix_api_key = os.environ.get(\"PHOENIX_API_KEY\")"
   ]
  },
  {
   "cell_type": "markdown",
   "id": "b7502252",
   "metadata": {},
   "source": [
    "# API Ref"
   ]
  },
  {
   "cell_type": "markdown",
   "id": "e97f0557",
   "metadata": {},
   "source": [
    "## datasets"
   ]
  },
  {
   "cell_type": "markdown",
   "id": "30a397ea",
   "metadata": {},
   "source": [
    "- GET `/v1/datasets`: List datasets\n",
    "- DELETE `/v1/datasets/{id}`: Delete dataset by ID\n",
    "- GET `/v1/datasets/{id}`: Get dataset by ID\n",
    "- GET `/v1/datasets/{id}/versions`: List dataset versions\n",
    "- POST `/v1/datasets/upload`: Upload dataset from JSON, CSV, or PyArrow\n",
    "- GET `/v1/datasets/{id}/examples`: Get examples from a dataset\n",
    "- GET `/v1/datasets/{id}/csv`: Download dataset examples as CSV file\n",
    "- GET `/v1/datasets/{id}/jsonl/openai_ft`: Download dataset examples as OpenAI fine-tuning JSONL file\n",
    "- GET `/v1/datasets/{id}/jsonl/openai_evals`: Download dataset examples as OpenAI evals JSONL file"
   ]
  },
  {
   "cell_type": "markdown",
   "id": "d8ea3fc3",
   "metadata": {},
   "source": [
    "## experiments"
   ]
  },
  {
   "cell_type": "markdown",
   "id": "6468a57a",
   "metadata": {},
   "source": [
    "- POST `/v1/datasets/{dataset_id}/experiments`: Create experiment on a dataset\n",
    "- GET `/v1/datasets/{dataset_id}/experiments`: List experiments by dataset\n",
    "- GET `/v1/experiments/{experiment_id}`: Get experiment by ID\n",
    "- GET `/v1/experiments/{experiment_id}/json`: Download experiment runs as a JSON file\n",
    "- GET `/v1/experiments/{experiment_id}/csv`: Download experiment runs as a CSV file"
   ]
  },
  {
   "cell_type": "markdown",
   "id": "6801df90",
   "metadata": {},
   "source": [
    "## spans"
   ]
  },
  {
   "cell_type": "markdown",
   "id": "e46c27a6",
   "metadata": {},
   "source": [
    "POST\n",
    "/v1/span_annotations\n",
    "Create or update span annotations"
   ]
  },
  {
   "cell_type": "markdown",
   "id": "0cf721c0",
   "metadata": {},
   "source": [
    "## traces"
   ]
  },
  {
   "cell_type": "markdown",
   "id": "8f436fef",
   "metadata": {},
   "source": [
    "- POST `/v1/evaluations`: Add span, trace, or document evaluations\n",
    "- GET `/v1/evaluations`: Get span, trace, or document evaluations from a project"
   ]
  },
  {
   "cell_type": "markdown",
   "id": "de8b728f",
   "metadata": {},
   "source": [
    "## prompts"
   ]
  },
  {
   "cell_type": "markdown",
   "id": "abaf6dc5",
   "metadata": {},
   "source": [
    "- GET `/v1/prompts`: Get all prompts\n",
    "- POST `/v1/prompts`: Create a prompt version\n",
    "- GET `/v1/prompts/{prompt_identifier}/versions`: List all prompt versions for a given prompt\n",
    "- GET `/v1/prompt_versions/{prompt_version_id}`: Get prompt by prompt version ID\n",
    "- GET `/v1/prompts/{prompt_identifier}/tags/{tag_name}`: Get prompt by tag name\n",
    "- GET `/v1/prompts/{prompt_identifier}/latest`:Get the latest prompt version"
   ]
  },
  {
   "cell_type": "markdown",
   "id": "f370282a",
   "metadata": {},
   "source": [
    "# Code"
   ]
  },
  {
   "cell_type": "code",
   "execution_count": 22,
   "id": "9cf7576b",
   "metadata": {},
   "outputs": [],
   "source": [
    "def phoenix_query(endpoint, params=None, method=\"GET\", data=None):\n",
    "    \"Query the Phoenix API with automatic authentication.\"\n",
    "    headers = {'Authorization': f'Bearer {phoenix_api_key}'}\n",
    "    url = f\"https://phx.ankihub.net{endpoint}\"    \n",
    "    match method.upper():\n",
    "        case \"GET\":  response = httpx.get(url,  params=params, headers=headers)\n",
    "        case \"POST\": response = httpx.post(url, params=params, json=data, headers=headers)\n",
    "        case _: raise ValueError(f\"Unsupported HTTP method: {method}\")\n",
    "    \n",
    "    response.raise_for_status()\n",
    "    return response.json()"
   ]
  },
  {
   "cell_type": "code",
   "execution_count": 26,
   "id": "ea50a663",
   "metadata": {},
   "outputs": [
    {
     "data": {
      "text/plain": [
       "{'data': [{'id': 'RGF0YXNldDoxOQ==',\n",
       "   'name': 'Cystic Fibrosis Prompt Rewriting',\n",
       "   'description': '41 rewrites of Cystic Fibrosis query 4',\n",
       "   'metadata': {},\n",
       "   'created_at': '2025-03-31T17:42:12.671241+00:00',\n",
       "   'updated_at': '2025-03-31T17:42:12.671241+00:00'},\n",
       "  {'id': 'RGF0YXNldDoxOA==',\n",
       "   'name': 'Smart search golden dataset',\n",
       "   'description': 'Golden dataset for smart search results based on human feedback',\n",
       "   'metadata': {},\n",
       "   'created_at': '2025-03-29T08:29:37.670726+00:00',\n",
       "   'updated_at': '2025-03-29T17:06:49.423323+00:00'}],\n",
       " 'next_cursor': None}"
      ]
     },
     "execution_count": 26,
     "metadata": {},
     "output_type": "execute_result"
    }
   ],
   "source": [
    "httpx.get('https://phx.ankihub.net/v1/datasets', headers={'Authorization': f'Bearer {phoenix_api_key}'}).json()"
   ]
  },
  {
   "cell_type": "code",
   "execution_count": 23,
   "id": "51214d62",
   "metadata": {},
   "outputs": [
    {
     "data": {
      "text/html": [
       "<div>\n",
       "<style scoped>\n",
       "    .dataframe tbody tr th:only-of-type {\n",
       "        vertical-align: middle;\n",
       "    }\n",
       "\n",
       "    .dataframe tbody tr th {\n",
       "        vertical-align: top;\n",
       "    }\n",
       "\n",
       "    .dataframe thead th {\n",
       "        text-align: right;\n",
       "    }\n",
       "</style>\n",
       "<table border=\"1\" class=\"dataframe\">\n",
       "  <thead>\n",
       "    <tr style=\"text-align: right;\">\n",
       "      <th></th>\n",
       "      <th>name</th>\n",
       "      <th>description</th>\n",
       "      <th>id</th>\n",
       "    </tr>\n",
       "  </thead>\n",
       "  <tbody>\n",
       "    <tr>\n",
       "      <th>0</th>\n",
       "      <td>Cystic Fibrosis Prompt Rewriting</td>\n",
       "      <td>41 rewrites of Cystic Fibrosis query 4</td>\n",
       "      <td>RGF0YXNldDoxOQ==</td>\n",
       "    </tr>\n",
       "    <tr>\n",
       "      <th>1</th>\n",
       "      <td>Smart search golden dataset</td>\n",
       "      <td>Golden dataset for smart search results based ...</td>\n",
       "      <td>RGF0YXNldDoxOA==</td>\n",
       "    </tr>\n",
       "  </tbody>\n",
       "</table>\n",
       "</div>"
      ],
      "text/plain": [
       "                               name  \\\n",
       "0  Cystic Fibrosis Prompt Rewriting   \n",
       "1       Smart search golden dataset   \n",
       "\n",
       "                                         description                id  \n",
       "0             41 rewrites of Cystic Fibrosis query 4  RGF0YXNldDoxOQ==  \n",
       "1  Golden dataset for smart search results based ...  RGF0YXNldDoxOA==  "
      ]
     },
     "execution_count": 23,
     "metadata": {},
     "output_type": "execute_result"
    }
   ],
   "source": [
    "response = phoenix_query('/v1/datasets', params={'limit': 10})\n",
    "pd.DataFrame(response['data'])[['name','description','id']]"
   ]
  },
  {
   "cell_type": "code",
   "execution_count": 13,
   "id": "a637d39b",
   "metadata": {},
   "outputs": [
    {
     "data": {
      "text/plain": [
       "{'data': [{'id': 'RGF0YXNldDoxOQ==',\n",
       "   'name': 'Cystic Fibrosis Prompt Rewriting',\n",
       "   'description': '41 rewrites of Cystic Fibrosis query 4',\n",
       "   'metadata': {},\n",
       "   'created_at': '2025-03-31T17:42:12.671241+00:00',\n",
       "   'updated_at': '2025-03-31T17:42:12.671241+00:00'},\n",
       "  {'id': 'RGF0YXNldDoxOA==',\n",
       "   'name': 'Smart search golden dataset',\n",
       "   'description': 'Golden dataset for smart search results based on human feedback',\n",
       "   'metadata': {},\n",
       "   'created_at': '2025-03-29T08:29:37.670726+00:00',\n",
       "   'updated_at': '2025-03-29T17:06:49.423323+00:00'}],\n",
       " 'next_cursor': None}"
      ]
     },
     "execution_count": 13,
     "metadata": {},
     "output_type": "execute_result"
    }
   ],
   "source": [
    "response"
   ]
  },
  {
   "cell_type": "code",
   "execution_count": 14,
   "id": "49a65183",
   "metadata": {
    "scrolled": true
   },
   "outputs": [],
   "source": [
    "dataset_id = \"RGF0YXNldDoxOA==\" \n",
    "examples = phoenix_query(f'/v1/datasets/{dataset_id}/examples', params={'limit': 5})"
   ]
  },
  {
   "cell_type": "code",
   "execution_count": 15,
   "id": "cc018a2a",
   "metadata": {},
   "outputs": [],
   "source": [
    "_exp = examples['data']['examples'][0]"
   ]
  },
  {
   "cell_type": "code",
   "execution_count": 16,
   "id": "fcf4521d",
   "metadata": {},
   "outputs": [
    {
     "data": {
      "text/plain": [
       "{'query': 'propofol'}"
      ]
     },
     "execution_count": 16,
     "metadata": {},
     "output_type": "execute_result"
    }
   ],
   "source": [
    "_exp['input']"
   ]
  },
  {
   "cell_type": "code",
   "execution_count": 17,
   "id": "5658b64c",
   "metadata": {},
   "outputs": [
    {
     "data": {
      "text/html": [
       "<div>\n",
       "<style scoped>\n",
       "    .dataframe tbody tr th:only-of-type {\n",
       "        vertical-align: middle;\n",
       "    }\n",
       "\n",
       "    .dataframe tbody tr th {\n",
       "        vertical-align: top;\n",
       "    }\n",
       "\n",
       "    .dataframe thead th {\n",
       "        text-align: right;\n",
       "    }\n",
       "</style>\n",
       "<table border=\"1\" class=\"dataframe\">\n",
       "  <thead>\n",
       "    <tr style=\"text-align: right;\">\n",
       "      <th></th>\n",
       "      <th>rating</th>\n",
       "      <th>anki_id</th>\n",
       "      <th>document</th>\n",
       "      <th>ankihub_id</th>\n",
       "    </tr>\n",
       "  </thead>\n",
       "  <tbody>\n",
       "    <tr>\n",
       "      <th>0</th>\n",
       "      <td>1.0</td>\n",
       "      <td>1523479052793</td>\n",
       "      <td>Because propofol is highly lipophilic, it quic...</td>\n",
       "      <td>7f69689b-bbbd-40f4-b806-e374a07734f9</td>\n",
       "    </tr>\n",
       "    <tr>\n",
       "      <th>1</th>\n",
       "      <td>1.0</td>\n",
       "      <td>1484862424297</td>\n",
       "      <td>Compared to thiopental, propofol has less post...</td>\n",
       "      <td>397eb3f4-f8e0-4ed8-8308-f4170d19f6e5</td>\n",
       "    </tr>\n",
       "    <tr>\n",
       "      <th>2</th>\n",
       "      <td>1.0</td>\n",
       "      <td>1484862200866</td>\n",
       "      <td>Is propofol used for the induction or maintena...</td>\n",
       "      <td>83451a82-de2d-4bd8-b76a-3e0083fb0235</td>\n",
       "    </tr>\n",
       "    <tr>\n",
       "      <th>3</th>\n",
       "      <td>1.0</td>\n",
       "      <td>1484862393206</td>\n",
       "      <td>Propofol and etomidate are IV anesthetics that...</td>\n",
       "      <td>e2dee87f-3b0c-45c7-9855-6a42ffebe8ec</td>\n",
       "    </tr>\n",
       "    <tr>\n",
       "      <th>4</th>\n",
       "      <td>1.0</td>\n",
       "      <td>1484862398045</td>\n",
       "      <td>Propofol causes profound vasodilation of arter...</td>\n",
       "      <td>4cfbc90a-0c9e-46b5-adf1-4157de56191f</td>\n",
       "    </tr>\n",
       "  </tbody>\n",
       "</table>\n",
       "</div>"
      ],
      "text/plain": [
       "   rating        anki_id                                           document  \\\n",
       "0     1.0  1523479052793  Because propofol is highly lipophilic, it quic...   \n",
       "1     1.0  1484862424297  Compared to thiopental, propofol has less post...   \n",
       "2     1.0  1484862200866  Is propofol used for the induction or maintena...   \n",
       "3     1.0  1484862393206  Propofol and etomidate are IV anesthetics that...   \n",
       "4     1.0  1484862398045  Propofol causes profound vasodilation of arter...   \n",
       "\n",
       "                             ankihub_id  \n",
       "0  7f69689b-bbbd-40f4-b806-e374a07734f9  \n",
       "1  397eb3f4-f8e0-4ed8-8308-f4170d19f6e5  \n",
       "2  83451a82-de2d-4bd8-b76a-3e0083fb0235  \n",
       "3  e2dee87f-3b0c-45c7-9855-6a42ffebe8ec  \n",
       "4  4cfbc90a-0c9e-46b5-adf1-4157de56191f  "
      ]
     },
     "execution_count": 17,
     "metadata": {},
     "output_type": "execute_result"
    }
   ],
   "source": [
    "pd.DataFrame(_exp['output']['documents']).head()"
   ]
  },
  {
   "cell_type": "code",
   "execution_count": 27,
   "id": "edb64d42",
   "metadata": {},
   "outputs": [],
   "source": [
    "def store_search_results_to_csv(data, output_file=\"search_results.csv\"):\n",
    "    import csv\n",
    "    import os\n",
    "    \n",
    "    rows = []\n",
    "    \n",
    "    # Create headers\n",
    "    headers = [\"query\", \"rating\", \"anki_id\", \"document\", \"ankihub_id\"]\n",
    "    \n",
    "    # Process each example\n",
    "    for example in data:\n",
    "        query = example['input']['query']\n",
    "        \n",
    "        # Process each document in the output\n",
    "        for doc in example['output']['documents']:\n",
    "            row = {\n",
    "                \"query\": query,\n",
    "                \"rating\": doc['rating'],\n",
    "                \"anki_id\": doc['anki_id'],\n",
    "                \"document\": doc['document'],\n",
    "                \"ankihub_id\": doc['ankihub_id']\n",
    "            }\n",
    "            rows.append(row)\n",
    "    \n",
    "    # Write to CSV\n",
    "    with open(output_file, 'w', newline='', encoding='utf-8') as f:\n",
    "        writer = csv.DictWriter(f, fieldnames=headers)\n",
    "        writer.writeheader()\n",
    "        writer.writerows(rows)\n",
    "    \n",
    "    return f\"Data saved to {os.path.abspath(output_file)} with {len(rows)} rows\""
   ]
  },
  {
   "cell_type": "code",
   "execution_count": 28,
   "id": "a33bfc6c",
   "metadata": {},
   "outputs": [
    {
     "data": {
      "text/plain": [
       "'Data saved to /Users/iflath/git/AnkiHub/fasthtml-demo/scratch/search_results.csv with 865 rows'"
      ]
     },
     "execution_count": 28,
     "metadata": {},
     "output_type": "execute_result"
    }
   ],
   "source": [
    "store_search_results_to_csv(examples['data']['examples'])"
   ]
  },
  {
   "cell_type": "code",
   "execution_count": null,
   "id": "7e466acf",
   "metadata": {},
   "outputs": [],
   "source": []
  }
 ],
 "metadata": {
  "kernelspec": {
   "display_name": ".venv",
   "language": "python",
   "name": "python3"
  },
  "language_info": {
   "codemirror_mode": {
    "name": "ipython",
    "version": 3
   },
   "file_extension": ".py",
   "mimetype": "text/x-python",
   "name": "python",
   "nbconvert_exporter": "python",
   "pygments_lexer": "ipython3",
   "version": "3.12.8"
  }
 },
 "nbformat": 4,
 "nbformat_minor": 5
}
